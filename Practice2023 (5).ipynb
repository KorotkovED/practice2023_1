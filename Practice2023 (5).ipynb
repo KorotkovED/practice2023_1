{
 "cells": [
  {
   "cell_type": "code",
   "execution_count": 1,
   "id": "89bd4635",
   "metadata": {},
   "outputs": [
    {
     "name": "stdout",
     "output_type": "stream",
     "text": [
      "Requirement already satisfied: pandas in c:\\users\\egor\\anaconda3\\lib\\site-packages (1.3.4)\n",
      "Requirement already satisfied: python-dateutil>=2.7.3 in c:\\users\\egor\\anaconda3\\lib\\site-packages (from pandas) (2.8.2)\n",
      "Requirement already satisfied: pytz>=2017.3 in c:\\users\\egor\\anaconda3\\lib\\site-packages (from pandas) (2021.3)\n",
      "Requirement already satisfied: numpy>=1.17.3 in c:\\users\\egor\\anaconda3\\lib\\site-packages (from pandas) (1.20.3)\n",
      "Requirement already satisfied: six>=1.5 in c:\\users\\egor\\anaconda3\\lib\\site-packages (from python-dateutil>=2.7.3->pandas) (1.16.0)\n",
      "Note: you may need to restart the kernel to use updated packages.\n"
     ]
    }
   ],
   "source": [
    "pip install pandas"
   ]
  },
  {
   "cell_type": "code",
   "execution_count": 146,
   "id": "34319a50",
   "metadata": {},
   "outputs": [
    {
     "name": "stdout",
     "output_type": "stream",
     "text": [
      "Requirement already satisfied: numpy in c:\\users\\egor\\anaconda3\\lib\\site-packages (1.20.3)Note: you may need to restart the kernel to use updated packages.\n",
      "\n"
     ]
    }
   ],
   "source": [
    "pip install numpy"
   ]
  },
  {
   "cell_type": "code",
   "execution_count": 6,
   "id": "d53f9dd1",
   "metadata": {},
   "outputs": [
    {
     "name": "stdout",
     "output_type": "stream",
     "text": [
      "Requirement already satisfied: psycopg2 in c:\\users\\egor\\anaconda3\\lib\\site-packages (2.9.6)Note: you may need to restart the kernel to use updated packages.\n",
      "\n"
     ]
    }
   ],
   "source": [
    "pip install psycopg2"
   ]
  },
  {
   "cell_type": "code",
   "execution_count": 3,
   "id": "5b46e37b",
   "metadata": {},
   "outputs": [
    {
     "name": "stdout",
     "output_type": "stream",
     "text": [
      "[INFO] Таблица уже существует в PostgreSQL\n",
      "[INFO] PostgreSQL connection closed\n"
     ]
    }
   ],
   "source": [
    "import psycopg2\n",
    "import pandas as pd\n",
    "\n",
    "\n",
    "try:\n",
    "    # Подключение к БД\n",
    "    connection = psycopg2.connect(\n",
    "        host='127.0.0.1', # '127.0.0.1'\n",
    "        user='postgres', # 'postgres'\n",
    "        password='qwerty', # 'qwerty'\n",
    "        database='practice2023', # 'practice2023'\n",
    "    )\n",
    "\n",
    "    cursor = connection.cursor()\n",
    "    \n",
    "    # Проверка существования таблицы в БД\n",
    "    cursor.execute(\"select * from information_schema.tables where table_name=%s\", ('dop_results',))\n",
    "    answer = bool(cursor.rowcount)\n",
    "\n",
    "    if answer is False:\n",
    "        create_table(cursor, connection)\n",
    "        print('[INFO] Таблица создана!')\n",
    "\n",
    "    else:\n",
    "        print('[INFO] Таблица уже существует в PostgreSQL')\n",
    "    \n",
    "    # Создание запроса с последующим преобразованием query в Dataframe\n",
    "    query = \"\"\"SELECT id_stand, id_test, id_version, input_rate, ierrors, id_runs FROM dop_results\"\"\"\n",
    "    data = pd.read_sql_query(query, connection)\n",
    "    \n",
    "except Exception as _ex:\n",
    "    print('[INFO] Error while working with PostgreSQL', _ex)\n",
    "\n",
    "finally:\n",
    "    # Отключение от БД\n",
    "    if connection:\n",
    "        connection.close()\n",
    "        print('[INFO] PostgreSQL connection closed')\n",
    "        \n"
   ]
  },
  {
   "cell_type": "code",
   "execution_count": 20,
   "id": "e015a64a",
   "metadata": {},
   "outputs": [],
   "source": [
    "# Удалим собранные с ошибкой прогоны \n",
    "data.drop(data[data['id_runs'].isin([85, 151])].index, inplace=True)\n",
    "data['errors_rate'] = data['ierrors'] / (data['ierrors'] + data['input_rate']) * 100"
   ]
  },
  {
   "cell_type": "code",
   "execution_count": null,
   "id": "58c99ecc",
   "metadata": {},
   "outputs": [],
   "source": []
  },
  {
   "cell_type": "code",
   "execution_count": null,
   "id": "b4917b39",
   "metadata": {
    "scrolled": true
   },
   "outputs": [],
   "source": []
  },
  {
   "cell_type": "code",
   "execution_count": null,
   "id": "f53b3ce6",
   "metadata": {},
   "outputs": [],
   "source": []
  },
  {
   "cell_type": "code",
   "execution_count": null,
   "id": "54bf775f",
   "metadata": {},
   "outputs": [],
   "source": [
    "\n",
    "    "
   ]
  },
  {
   "cell_type": "code",
   "execution_count": 9,
   "id": "712542d4",
   "metadata": {},
   "outputs": [
    {
     "name": "stdout",
     "output_type": "stream",
     "text": [
      "Requirement already satisfied: sklearn in c:\\users\\egor\\anaconda3\\lib\\site-packages (0.0.post5)\n",
      "Note: you may need to restart the kernel to use updated packages.\n"
     ]
    }
   ],
   "source": [
    "pip install sklearn"
   ]
  },
  {
   "cell_type": "code",
   "execution_count": null,
   "id": "95aca90a",
   "metadata": {},
   "outputs": [],
   "source": []
  },
  {
   "cell_type": "code",
   "execution_count": null,
   "id": "aefdaa89",
   "metadata": {},
   "outputs": [],
   "source": []
  },
  {
   "cell_type": "code",
   "execution_count": 21,
   "id": "6c7cdda6",
   "metadata": {
    "scrolled": false
   },
   "outputs": [
    {
     "data": {
      "image/png": "[encoded data removed]",
      "text/plain": [
       "<Figure size 432x288 with 1 Axes>"
      ]
     },
     "metadata": {
      "needs_background": "light"
     },
     "output_type": "display_data"
    },
    {
     "name": "stdout",
     "output_type": "stream",
     "text": [
      "Тест Колмогорова-Смирнова для нормального з.р.:\n",
      "Распределение данных похоже на нормальное\n"
     ]
    },
    {
     "data": {
      "image/png": "[encoded data removed]",
      "text/plain": [
       "<Figure size 432x288 with 1 Axes>"
      ]
     },
     "metadata": {
      "needs_background": "light"
     },
     "output_type": "display_data"
    },
    {
     "name": "stdout",
     "output_type": "stream",
     "text": [
      "Тест Колмогорова-Смирнова для нормального з.р.:\n",
      "Распределение данных похоже на нормальное\n"
     ]
    },
    {
     "data": {
      "image/png": "[encoded data removed]",
      "text/plain": [
       "<Figure size 432x288 with 1 Axes>"
      ]
     },
     "metadata": {
      "needs_background": "light"
     },
     "output_type": "display_data"
    },
    {
     "name": "stdout",
     "output_type": "stream",
     "text": [
      "Тест Колмогорова-Смирнова для нормального з.р.:\n",
      "Распределение данных похоже на нормальное\n"
     ]
    },
    {
     "data": {
      "image/png": "[encoded data removed]",
      "text/plain": [
       "<Figure size 432x288 with 1 Axes>"
      ]
     },
     "metadata": {
      "needs_background": "light"
     },
     "output_type": "display_data"
    },
    {
     "name": "stdout",
     "output_type": "stream",
     "text": [
      "Тест Колмогорова-Смирнова для нормального з.р.:\n",
      "Распределение данных похоже на нормальное\n"
     ]
    },
    {
     "data": {
      "image/png": "[encoded data removed]",
      "text/plain": [
       "<Figure size 432x288 with 1 Axes>"
      ]
     },
     "metadata": {
      "needs_background": "light"
     },
     "output_type": "display_data"
    },
    {
     "name": "stdout",
     "output_type": "stream",
     "text": [
      "Тест Колмогорова-Смирнова для нормального з.р.:\n",
      "Распределение данных похоже на нормальное\n"
     ]
    },
    {
     "data": {
      "image/png": "[encoded data removed]",
      "text/plain": [
       "<Figure size 432x288 with 1 Axes>"
      ]
     },
     "metadata": {
      "needs_background": "light"
     },
     "output_type": "display_data"
    },
    {
     "name": "stdout",
     "output_type": "stream",
     "text": [
      "Тест Колмогорова-Смирнова для нормального з.р.:\n",
      "Распределение данных похоже на нормальное\n"
     ]
    }
   ],
   "source": [
    "\"\"\"Фильтрация данных по версии стенда и различных тестов\"\"\"\n",
    "\n",
    "from scipy.stats import kstest, lognorm, norm\n",
    "import matplotlib.pyplot as plt\n",
    "\n",
    "def test_func(stack):\n",
    "\n",
    "    # Выполнение теста Колмогорова-Смирнова\n",
    "    statistic, p_value = kstest(stack['errors_rate'], norm.fit(stack['errors_rate']))\n",
    "    print(\"Тест Колмогорова-Смирнова для нормального з.р.:\")\n",
    "    alpha = 0.05\n",
    "    if p_value > alpha:\n",
    "        print(\"Распределение данных похоже на нормальное\")\n",
    "    else:\n",
    "        print(\"Распределение данных не является нормальным\")\n",
    "\n",
    "master = 'branch1'\n",
    "distribute = 'branch2'\n",
    "grouped_data = data.groupby(['id_stand', 'id_test', 'id_version'])\n",
    "\n",
    "stands = ['stand1', 'stand2']\n",
    "versions = [master, distribute]\n",
    "test = [1,2,3]\n",
    "stack_df = []\n",
    "for i in stands:\n",
    "    for j in test:\n",
    "        for k in versions:\n",
    "            try:\n",
    "                df = grouped_data.get_group((i, j, k))\n",
    "                stack_df.append(df)\n",
    "            except Exception as ex:\n",
    "                continue\n",
    "                \n",
    "\n",
    "name_df = ['stand1_test1_1' ,'stand2_test1_1', 'stand2_test2_1', 'stand2_test2_2', 'stand2_test3_1', 'stand2_test3_2']\n",
    "k = 0\n",
    "\n",
    "for i in stack_df:\n",
    "    plt.hist(i['errors_rate'])\n",
    "\n",
    "    if (name_df[k] == 'stand2_test1_1' \n",
    "        or name_df[k] ==  'stand2_test2_1'\n",
    "        or name_df[k] == 'stand2_test3_1'\n",
    "        or name_df[k] == 'stand1_test1_1'):\n",
    "        \n",
    "        plt.title(f'{name_df[k]} для errors_rate для версии branch1')\n",
    "    else:\n",
    "        plt.title(f'{name_df[k]} для errors_rate для версии branch2')\n",
    "\n",
    "    plt.xlabel('Значения')\n",
    "    plt.ylabel('Количество повторений')\n",
    "    plt.show()\n",
    "\n",
    "    test_func(i)\n",
    "        \n",
    "    k +=1\n",
    "\n"
   ]
  },
  {
   "cell_type": "code",
   "execution_count": null,
   "id": "c1b211ab",
   "metadata": {},
   "outputs": [],
   "source": []
  },
  {
   "cell_type": "code",
   "execution_count": null,
   "id": "c0fa1800",
   "metadata": {},
   "outputs": [],
   "source": []
  },
  {
   "cell_type": "code",
   "execution_count": 9,
   "id": "0df1541e",
   "metadata": {},
   "outputs": [
    {
     "name": "stdout",
     "output_type": "stream",
     "text": [
      "Доверительный интервал для stand1_test1_1\n",
      "Нижняя граница: 0.0028\n",
      "Верхняя граница: 0.0038\n",
      "Доверительный интервал для stand2_test1_1\n",
      "Нижняя граница: 1.7461\n",
      "Верхняя граница: 1.7714\n",
      "Доверительный интервал для stand2_test2_1\n",
      "Нижняя граница: 1.6856\n",
      "Верхняя граница: 1.7793\n",
      "Доверительный интервал для stand2_test2_2\n",
      "Нижняя граница: 1.7012\n",
      "Верхняя граница: 1.8049\n",
      "Доверительный интервал для stand2_test3_1\n",
      "Нижняя граница: 21.0137\n",
      "Верхняя граница: 21.504\n",
      "Доверительный интервал для stand2_test3_2\n",
      "Нижняя граница: 19.1496\n",
      "Верхняя граница: 19.693\n"
     ]
    }
   ],
   "source": [
    "\"\"\"Доверительный интервал\"\"\"\n",
    "\n",
    "import numpy as np\n",
    "import scipy.stats as st\n",
    "\n",
    "\n",
    "def mean_confidence_interval(data, confidence=0.95):\n",
    "    a = 1.0 * np.array(data)\n",
    "    n = len(a)\n",
    "    m, se = np.mean(a), scipy.stats.sem(a)\n",
    "    h = se * scipy.stats.t.ppf((1 + confidence) / 2., n-1)\n",
    "    return m-3*h, m+3*h\n",
    "k=0\n",
    "\n",
    "for i in stack_df:\n",
    "    confidence_interval = mean_confidence_interval(i['errors_rate'])\n",
    "    print(\"Доверительный интервал для {}\".format(name_df[k]))\n",
    "    print(\"Нижняя граница:\", round(confidence_interval[0], 4))\n",
    "    print(\"Верхняя граница:\", round(confidence_interval[1], 4))\n",
    "    k+=1\n"
   ]
  },
  {
   "cell_type": "code",
   "execution_count": 22,
   "id": "cbbb265f",
   "metadata": {
    "scrolled": true
   },
   "outputs": [
    {
     "name": "stdout",
     "output_type": "stream",
     "text": [
      "Статистика для stand1_test1_1 и stand2_test1_1\n",
      "p-value: 0.0\n",
      "\n",
      "\n",
      "Статистика для stand1_test1_1 и stand2_test2_1\n",
      "p-value: 9.69771562379222e-203\n",
      "\n",
      "\n",
      "Статистика для stand1_test1_1 и stand2_test3_1\n",
      "p-value: 1.3340882228023882e-250\n",
      "\n",
      "\n",
      "Статистика для stand2_test1_1 и stand1_test1_1\n",
      "p-value: 0.0\n",
      "\n",
      "\n",
      "Статистика для stand2_test1_1 и stand2_test2_1\n",
      "p-value: 9.338976537781992e-06\n",
      "\n",
      "\n",
      "Статистика для stand2_test1_1 и stand2_test2_2\n",
      "p-value: 0.34447797607725605\n",
      "\n",
      "\n",
      "Статистика для stand2_test1_1 и stand2_test3_1\n",
      "p-value: 7.043543818331864e-247\n",
      "\n",
      "\n",
      "Статистика для stand2_test1_1 и stand2_test3_2\n",
      "p-value: 4.8093530416740024e-235\n",
      "\n",
      "\n",
      "Статистика для stand2_test2_1 и stand1_test1_1\n",
      "p-value: 9.69771562379222e-203\n",
      "\n",
      "\n",
      "Статистика для stand2_test2_1 и stand2_test1_1\n",
      "p-value: 9.338976537781992e-06\n",
      "\n",
      "\n",
      "Статистика для stand2_test2_1 и stand2_test2_2\n",
      "p-value: 0.0756024270110678\n",
      "\n",
      "\n",
      "Статистика для stand2_test2_1 и stand2_test3_1\n",
      "p-value: 3.28116816991517e-109\n",
      "\n",
      "\n",
      "Статистика для stand2_test2_1 и stand2_test3_2\n",
      "p-value: 5.461485893764468e-103\n",
      "\n",
      "\n",
      "Статистика для stand2_test2_2 и stand2_test1_1\n",
      "p-value: 0.34447797607725605\n",
      "\n",
      "\n",
      "Статистика для stand2_test2_2 и stand2_test2_1\n",
      "p-value: 0.0756024270110678\n",
      "\n",
      "\n",
      "Статистика для stand2_test2_2 и stand2_test3_1\n",
      "p-value: 4.1146384645510075e-107\n",
      "\n",
      "\n",
      "Статистика для stand2_test2_2 и stand2_test3_2\n",
      "p-value: 5.585899142622901e-101\n",
      "\n",
      "\n",
      "Статистика для stand2_test3_1 и stand1_test1_1\n",
      "p-value: 1.3340882228023882e-250\n",
      "\n",
      "\n",
      "Статистика для stand2_test3_1 и stand2_test1_1\n",
      "p-value: 7.043543818331864e-247\n",
      "\n",
      "\n",
      "Статистика для stand2_test3_1 и stand2_test2_1\n",
      "p-value: 3.28116816991517e-109\n",
      "\n",
      "\n",
      "Статистика для stand2_test3_1 и stand2_test2_2\n",
      "p-value: 4.1146384645510075e-107\n",
      "\n",
      "\n",
      "Статистика для stand2_test3_1 и stand2_test3_2\n",
      "p-value: 4.4133917986123165e-38\n",
      "\n",
      "\n",
      "Статистика для stand2_test3_2 и stand2_test1_1\n",
      "p-value: 4.8093530416740024e-235\n",
      "\n",
      "\n",
      "Статистика для stand2_test3_2 и stand2_test2_1\n",
      "p-value: 5.461485893764468e-103\n",
      "\n",
      "\n",
      "Статистика для stand2_test3_2 и stand2_test2_2\n",
      "p-value: 5.585899142622901e-101\n",
      "\n",
      "\n",
      "Статистика для stand2_test3_2 и stand2_test3_1\n",
      "p-value: 4.4133917986123165e-38\n",
      "\n",
      "\n"
     ]
    }
   ],
   "source": [
    "\"\"\"Проверка гипотезы о равенстве параметров распределения\"\"\"\n",
    "\n",
    "from scipy.stats import ttest_ind\n",
    "\n",
    "\n",
    "\n",
    "for i in range(len(stack_df)):\n",
    "    for j in range(len(stack_df)):\n",
    "        if name_df[i] == name_df[j]:\n",
    "            continue\n",
    "        elif name_df[i][5] == name_df[j][5] or name_df[i][11] == name_df[j][11] or name_df[i][13] == name_df[j][13]:\n",
    "            t_statistic, p_value = ttest_ind(stack_df[i]['errors_rate'], stack_df[j]['errors_rate'])\n",
    "            print(f\"Статистика для {name_df[i]} и {name_df[j]}\")\n",
    "            print(\"p-value:\", p_value)\n",
    "            print(\"\\n\")\n",
    "        else:\n",
    "            continue\n",
    "\n"
   ]
  },
  {
   "cell_type": "code",
   "execution_count": 23,
   "id": "4e51837d",
   "metadata": {
    "scrolled": true
   },
   "outputs": [
    {
     "name": "stdout",
     "output_type": "stream",
     "text": [
      "\n",
      "\n",
      "Построение дов. интервалов для TRAIN\n",
      "Доверительный интервал для errors_rate из stand1_test1_1\n",
      "Доверительный интервал (95.0%):\n",
      "Нижняя граница: 0.0027\n",
      "Верхняя граница: 0.004\n",
      "\n",
      "\n",
      "Доверительный интервал для errors_rate из stand2_test1_1\n",
      "Доверительный интервал (95.0%):\n",
      "Нижняя граница: 1.7436\n",
      "Верхняя граница: 1.7746\n",
      "\n",
      "\n",
      "Доверительный интервал для errors_rate из stand2_test2_1\n",
      "Доверительный интервал (95.0%):\n",
      "Нижняя граница: 1.6676\n",
      "Верхняя граница: 1.8032\n",
      "\n",
      "\n",
      "Доверительный интервал для errors_rate из stand2_test2_2\n",
      "Доверительный интервал (95.0%):\n",
      "Нижняя граница: 1.6791\n",
      "Верхняя граница: 1.8285\n",
      "\n",
      "\n",
      "Доверительный интервал для errors_rate из stand2_test3_1\n",
      "Доверительный интервал (95.0%):\n",
      "Нижняя граница: 20.998\n",
      "Верхняя граница: 21.5742\n",
      "\n",
      "\n",
      "Доверительный интервал для errors_rate из stand2_test3_2\n",
      "Доверительный интервал (95.0%):\n",
      "Нижняя граница: 19.172\n",
      "Верхняя граница: 19.8124\n",
      "\n",
      "\n",
      "Попадние тестовых значений в дов. интервал для stand1_test1_1\n",
      "0.0027 0.004\n",
      "Попало:  23\n",
      "Не попало:  20\n",
      "Попадние тестовых значений в дов. интервал для stand2_test1_1\n",
      "1.7436 1.7746\n",
      "Попало:  18\n",
      "Не попало:  20\n",
      "Попадние тестовых значений в дов. интервал для stand2_test2_1\n",
      "1.6676 1.8032\n",
      "Попало:  11\n",
      "Не попало:  1\n",
      "Попадние тестовых значений в дов. интервал для stand2_test2_2\n",
      "1.6791 1.8285\n",
      "Попало:  12\n",
      "Не попало:  0\n",
      "Попадние тестовых значений в дов. интервал для stand2_test3_1\n",
      "20.998 21.5742\n",
      "Попало:  6\n",
      "Не попало:  6\n",
      "Попадние тестовых значений в дов. интервал для stand2_test3_2\n",
      "19.172 19.8124\n",
      "Попало:  8\n",
      "Не попало:  5\n",
      "\n",
      "\n",
      "Статистика для stand1_test1_1 и stand2_test1_1\n",
      "p-value: 2.8653489235751605e-211\n",
      "Статистика для stand2_test1_1 и stand1_test1_1\n",
      "p-value: 2.8653489235751605e-211\n",
      "Статистика для stand2_test1_1 и stand2_test2_1\n",
      "p-value: 0.0022234770686772854\n",
      "Статистика для stand2_test1_1 и stand2_test2_2\n",
      "p-value: 0.5031156679227923\n",
      "Статистика для stand2_test1_1 и stand2_test3_1\n",
      "p-value: 8.137166331694759e-157\n",
      "Статистика для stand2_test1_1 и stand2_test3_2\n",
      "p-value: 8.626992052218946e-149\n",
      "Статистика для stand2_test2_1 и stand2_test1_1\n",
      "p-value: 0.0022234770686772854\n",
      "Статистика для stand2_test2_1 и stand2_test2_2\n",
      "p-value: 0.2566064159936168\n",
      "Статистика для stand2_test2_1 и stand2_test3_1\n",
      "p-value: 6.817996738007475e-68\n",
      "Статистика для stand2_test2_1 и stand2_test3_2\n",
      "p-value: 1.3205153947461006e-62\n",
      "Статистика для stand2_test2_2 и stand2_test1_1\n",
      "p-value: 0.5031156679227923\n",
      "Статистика для stand2_test2_2 и stand2_test2_1\n",
      "p-value: 0.2566064159936168\n",
      "Статистика для stand2_test2_2 и stand2_test3_1\n",
      "p-value: 8.598992152305988e-66\n",
      "Статистика для stand2_test2_2 и stand2_test3_2\n",
      "p-value: 1.4196041987235287e-60\n",
      "Статистика для stand2_test3_1 и stand2_test1_1\n",
      "p-value: 8.137166331694759e-157\n",
      "Статистика для stand2_test3_1 и stand2_test2_1\n",
      "p-value: 6.817996738007475e-68\n",
      "Статистика для stand2_test3_1 и stand2_test2_2\n",
      "p-value: 8.598992152305988e-66\n",
      "Статистика для stand2_test3_1 и stand2_test3_2\n",
      "p-value: 2.9507286922586277e-24\n",
      "Статистика для stand2_test3_2 и stand2_test1_1\n",
      "p-value: 8.626992052218946e-149\n",
      "Статистика для stand2_test3_2 и stand2_test2_1\n",
      "p-value: 1.3205153947461006e-62\n",
      "Статистика для stand2_test3_2 и stand2_test2_2\n",
      "p-value: 1.4196041987235287e-60\n",
      "Статистика для stand2_test3_2 и stand2_test3_1\n",
      "p-value: 2.9507286922586277e-24\n"
     ]
    }
   ],
   "source": [
    "\"\"\"Проверка\"\"\"\n",
    "\n",
    "from sklearn.model_selection import train_test_split\n",
    "from scipy.stats import ks_2samp\n",
    "\n",
    "\n",
    "def group_by(data):\n",
    "    grouped_data = data.groupby(['id_stand', 'id_test', 'id_version'])\n",
    "\n",
    "    stands = ['nd3.netdike', 'nd7.netdike']\n",
    "    versions = [master, distribute]\n",
    "    test = [1,2,3]\n",
    "    stack_df = []\n",
    "    for i in stands:\n",
    "        for j in test:\n",
    "            for k in versions:\n",
    "                try:\n",
    "                    df = grouped_data.get_group((i, j, k))\n",
    "                    stack_df.append(df)\n",
    "                except Exception as ex:\n",
    "                    continue\n",
    "    return stack_df\n",
    "\n",
    "def df_plot(stack, name_df):\n",
    "    \"\"\"Функция построения графиков распределения\"\"\"\n",
    "    \n",
    "    k =0\n",
    "    for i in stack:\n",
    "        plt.hist(i['errors_rate'])\n",
    "\n",
    "        if (name_df[k] == 'stand2_test1_1' or \n",
    "            name_df[k] ==  'stand2_test2_1' or \n",
    "            name_df[k] == 'stand2_test3_1' or\n",
    "            name_df[k] == 'stand1_test1_1'):\n",
    "            plt.title(f'{name_df[k]} для errors_rate для branch1')\n",
    "        else:\n",
    "            plt.title(f'{name_df[k]} для errors_rate для branch2')\n",
    "\n",
    "        plt.xlabel('Значения')\n",
    "        plt.ylabel('Количество повторений')\n",
    "        plt.show()\n",
    "\n",
    "        test_func(i)\n",
    "        k +=1\n",
    "    \n",
    "def confidence_interval(df):\n",
    "    \"\"\"Расчет доверительного интервала\"\"\"\n",
    "    \n",
    "    confidence_level = 0.95\n",
    "    stack = []\n",
    "    k =0 \n",
    "    for i in df:\n",
    "        a = 1.0 * np.array(i['errors_rate'])\n",
    "        n = len(a)\n",
    "        confidence = 0.95\n",
    "        m, se = np.mean(a), scipy.stats.sem(a)\n",
    "        h = se * scipy.stats.t.ppf((1 + confidence) / 2., n-1)\n",
    "        print(\"Доверительный интервал для {} из {}\".format('errors_rate', name_df[k]))\n",
    "        print(\"Доверительный интервал ({}%):\".format(confidence_level * 100))\n",
    "        low = round(m-3*h,4)\n",
    "        high = round(m+3*h,4)\n",
    "        print(\"Нижняя граница:\", low)\n",
    "        print(\"Верхняя граница:\", high)\n",
    "        print(\"\\n\")\n",
    "        stack.append([low, high])\n",
    "\n",
    "        k +=1\n",
    "    return stack\n",
    "\n",
    "def test_count(df, stack):\n",
    "    k = 0 \n",
    "    for i in range(len(df)):\n",
    "        count = 0\n",
    "        print(\"Попадние тестовых значений в дов. интервал для {}\".format(name_df[k]))\n",
    "        print(stack[k][0], stack[k][1])\n",
    "        for j in df[i]['errors_rate']:\n",
    "            \n",
    "            if stack[i][0] <= j <= stack[i][1]:\n",
    "                count +=1\n",
    "        print(\"Попало: \", count)\n",
    "        print(\"Не попало: \", len(df[i]['errors_rate']) - count)\n",
    "        k+=1\n",
    "# Создаем тестовые и обучающие выборки, а также на их основе соотв. датафреймы\n",
    "test_size = 0.4\n",
    "train_data, test_data = train_test_split(data['errors_rate'], test_size=test_size)\n",
    "                \n",
    "train_df = data.loc[data['errors_rate'].isin(train_data.to_list())]\n",
    "test_df = data.loc[data['errors_rate'].isin(test_data.to_list())]\n",
    "\n",
    "\n",
    "train_filter_stack = group_by(train_df)\n",
    "test_filter_stack = group_by(test_df)\n",
    "\n",
    "print('\\n')\n",
    "print(\"Построение дов. интервалов для TRAIN\")\n",
    "stack = confidence_interval(train_filter_stack) \n",
    "\n",
    "test_count(test_filter_stack, stack)\n",
    "\n",
    "print('\\n')\n",
    "# проверим гипотезу а равенстве параметров распределения\n",
    "\n",
    "for i in range(len(name_df)):\n",
    "    for j in range(len(name_df)):\n",
    "        if name_df[i] == name_df[j]:\n",
    "            continue\n",
    "        elif name_df[i][5] == name_df[j][5] or name_df[i][11] == name_df[j][11]:\n",
    "            t_statistic, p_value = ttest_ind(train_filter_stack[i]['errors_rate'], train_filter_stack[j]['errors_rate'])\n",
    "            print(f\"Статистика для {name_df[i]} и {name_df[j]}\")\n",
    "            print(\"p-value:\", p_value)\n",
    "        else:\n",
    "            continue\n",
    "\n",
    "\n",
    "\n"
   ]
  },
  {
   "cell_type": "code",
   "execution_count": null,
   "id": "f8b6a698",
   "metadata": {},
   "outputs": [],
   "source": []
  },
  {
   "cell_type": "code",
   "execution_count": null,
   "id": "fc143d7f",
   "metadata": {},
   "outputs": [],
   "source": []
  },
  {
   "cell_type": "code",
   "execution_count": null,
   "id": "2b7c8914",
   "metadata": {},
   "outputs": [],
   "source": []
  }
 ],
 "metadata": {
  "kernelspec": {
   "display_name": "Python 3 (ipykernel)",
   "language": "python",
   "name": "python3"
  },
  "language_info": {
   "codemirror_mode": {
    "name": "ipython",
    "version": 3
   },
   "file_extension": ".py",
   "mimetype": "text/x-python",
   "name": "python",
   "nbconvert_exporter": "python",
   "pygments_lexer": "ipython3",
   "version": "3.9.7"
  }
 },
 "nbformat": 4,
 "nbformat_minor": 5
}
